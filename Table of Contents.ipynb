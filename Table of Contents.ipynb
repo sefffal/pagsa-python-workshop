{
 "cells": [
  {
   "cell_type": "markdown",
   "metadata": {},
   "source": []
  },
  {
   "cell_type": "markdown",
   "metadata": {},
   "source": [
    "**Table of Contents**\n",
    "\n",
    "---\n",
    "\n",
    "\n",
    "1. Interpreters\n",
    "2. Values & Variables\n",
    "3. Functions\n",
    "4. Interators\n",
    "6. Classes, Modules, & Packages\n",
    "    * Making your own\n",
    "    * Numpy\n",
    "    * Conda\n",
    "7. Magic \\_\\_methods\\_\\_"
   ]
  },
  {
   "cell_type": "markdown",
   "metadata": {},
   "source": [
    "## 1. Prelude on Interpreters\n",
    "\n",
    "* CPython\n",
    "* Others: PyPy, Cython, IronPython, Jython, etc\n",
    "\n",
    "* Extensions + What is Anaconda?\n",
    "\n",
    "### (C)Python?\n",
    "* Python is the language you type\n",
    "* For a computer to do something with your text file, you need an **interpreter**\n",
    "* Enter: CPython\n",
    "* CPython is the most commonly used Python interpreter. If you're not sure what interpreter you're using, it's probably CPython!\n",
    "* Running a CPython REPL: `python`\n",
    "* Running a script: `python my_script.py`\n",
    "* Pro-tip: `python -i my_script.py` to execute your script and dump you into a REPL!\n",
    "\n",
    "### Beyond CPython\n",
    "* There are lots of other interpreters to be aware of:\n",
    "* PyPy: Makes your Python fast (but numpy slow)\n",
    "* Cython: Compiles your Python to C (sort of)\n",
    "* IronPython: Fast multi-threaded Python with no GIL\n",
    "* Jython: Use Java libraries in your Python\n",
    "\n",
    "\n",
    "### Extensions + Anaconda\n",
    "CPython can be augmented with pre-compiled (FORTRAN, C, C++) extensions for neat tricks like NumPy. The only reliable way to install these extensions is with Anaconda (conda -- see section 5)\n",
    "\n",
    "Anaconda is the best way to get a working CPython set up with scientific libraries, etc. More on this later."
   ]
  },
  {
   "cell_type": "markdown",
   "metadata": {},
   "source": [
    "## 2. Values & Variables\n",
    "* Values: the basic building block of your code\n",
    "    * Values are \"things\", like numbers, strings, files\n",
    "    * Also called \"objects\" but more on this later\n",
    "    \n",
    "    * Python has two kinds of numbers built in:\n",
    "        * signed integers `(-1, 0, 1, 3, 400000, etc)`\n",
    "        * floating points `(1e+20, 0.01, 13.5, etc)`\n",
    "        * Python also has fractions, but these are rarely used\n",
    "    * Multiplying or dividing an int by a float always gives you a float\n",
    "    * Number operations:\n",
    "        * +, -, *, ** (exponent)\n",
    "    * Number comparisons:\n",
    "        * \\>, >=, <, <=, ==, !=\n",
    "    * Not what you think (avoid these):\n",
    "        * \\^, %, &, |, <<, >>\n",
    "    * Floating point errors...\n",
    "    \n",
    "    * Strings: `\"abc\", 'abc', \"\"\"abc\"\"\"` (essentially all the same).\n",
    "    \n",
    "    * What happens if you add a number to a string?\n",
    "        * `>>> \"The answer is \" + 23.0`<br>`TypeError`\n",
    "\n",
    "    * Python has **static** types. Every value is tagged with what type of thing it is.<br>When you try to combine values in a way that doesn't make sense, you will get a `TypeError`.\n",
    "    * BuT WaIt?! How come `1.0 + 2 == 3.0`?\n",
    "        * We will get to the bottom of this in Section 5.: \\_\\_magic\\_\\_ methods\n",
    "\n",
    "\n",
    "* Names (aka Variables)\n",
    "    * In other languages, you talk about \"storing\" values in variables.\n",
    "        * Not a good metaphor in Python\n",
    "    * Instead, we **bind** values to **names**\n",
    "    \n",
    "    * Mental model:\n",
    "        * when we create values (e.g. `1.0`), they are put \"somewhere\" (on the heap)\n",
    "        * A *name*, explains how to find that value\n",
    "        * Multiple names can lead to the **same** value\n",
    "        * The type (int, float, etc) is stored with the value, not the variable\n",
    "    \n",
    "    * Consider the following:<br>`a = 1`<br>`b = a`\n",
    "        * In other languages, this might mean \"make a copy of `a` (1) and store it in `b`\n",
    "        * In Python, this means \"find the value pointed to by `a`, store how to get to that value in `b`\"<br>Now `a` and `b` point to the exact same value\n",
    "        * This is a very important distinction! Especially with lists, arrays, functions, etc.\n",
    "        \n",
    "    * Excercise:<br>`a = 1`<br>`b = a + 1`<br>Are `a` and `b` pointing to the same value now? Why or why not?\n",
    "    \n",
    "            \n",
    "* Lists: `[1, 2.0, \"foo\"]`<br>Flexibly sized groups of ordered values, and mixed types.\n",
    "    * List indexes must be integers (i.e. `3`, not `3.0`) or you will get a TypeError\n",
    "    * List basic access:\n",
    "```\n",
    "mylist = [1.0, 2.0, 3.0, 4.0, 5.0, 6.0]\n",
    "mylist[0] # -> 1.0\n",
    "mylist[1] # -> 1.0\n",
    "mylist[5] # -> 6.0\n",
    "mylist[6] # -> IndexError!\n",
    "\n",
    "mylist[-1] # -> 6.0\n",
    "mylist[-2] # -> 5.0\n",
    "\n",
    "mylist[2] = 3.5\n",
    "```\n",
    "    * List slicing:\n",
    "```\n",
    "mylist[0:3] # -> [1.0, 2.0, 3.0]\n",
    "mylist[4:-1] # -> [5.0, 6.0]\n",
    "mylist[\n",
    "```\n",
    "\n",
    "        \n",
    "* In Python, everything is an object (caveats exist)\n",
    "    * \n",
    "* Everything is an object (except the things that aren't)\n",
    "    * Numbers, strings, lists\n",
    "* Variables\n",
    "    * rebinding vs. mutating\n",
    "    * Naming\n",
    "* Tuples and Named Tuples\n",
    "* Dictionaries\n",
    "\n",
    "* Loops"
   ]
  },
  {
   "cell_type": "code",
   "execution_count": 3,
   "metadata": {},
   "outputs": [
    {
     "ename": "TypeError",
     "evalue": "list indices must be integers or slices, not float",
     "output_type": "error",
     "traceback": [
      "\u001b[0;31m---------------------------------------------------------------------------\u001b[0m",
      "\u001b[0;31mTypeError\u001b[0m                                 Traceback (most recent call last)",
      "\u001b[0;32m<ipython-input-3-6234a0f0e51a>\u001b[0m in \u001b[0;36m<module>\u001b[0;34m()\u001b[0m\n\u001b[1;32m      1\u001b[0m \u001b[0ma\u001b[0m \u001b[0;34m=\u001b[0m \u001b[0;34m[\u001b[0m\u001b[0;36m1\u001b[0m\u001b[0;34m,\u001b[0m\u001b[0;36m2\u001b[0m\u001b[0;34m,\u001b[0m\u001b[0;36m3\u001b[0m\u001b[0;34m]\u001b[0m\u001b[0;34m\u001b[0m\u001b[0m\n\u001b[0;32m----> 2\u001b[0;31m \u001b[0ma\u001b[0m\u001b[0;34m[\u001b[0m\u001b[0;36m1.0\u001b[0m\u001b[0;34m]\u001b[0m\u001b[0;34m\u001b[0m\u001b[0m\n\u001b[0m",
      "\u001b[0;31mTypeError\u001b[0m: list indices must be integers or slices, not float"
     ]
    }
   ],
   "source": [
    "a = [1,2,3]\n",
    "a[1.0]"
   ]
  },
  {
   "cell_type": "markdown",
   "metadata": {},
   "source": [
    "## 3. Functions\n",
    "* Definition, return value, positional arguments\n",
    "* Optional arguments\n",
    "* Multiple returns\n",
    "* Functions are objects too!\n",
    "* Functional tricks: mapping, reducing, applying"
   ]
  },
  {
   "cell_type": "markdown",
   "metadata": {},
   "source": [
    "## 4. Iterators\n",
    "* Defintion, and gotchas.\n",
    "* More important than you think"
   ]
  },
  {
   "cell_type": "markdown",
   "metadata": {},
   "source": [
    "## 5. Classes, Modules, & Packages\n",
    "* De-emhasize classes\n",
    "* Definition\n",
    "* Beware of object oriented programming\n",
    "    * Inheritance, and why you'll regret it\n",
    "* Magic methods\n",
    "\n",
    "* Emphasize modules\n",
    "* Making your own modules, things to watch out for\n",
    "* How imports really work\n",
    "* Now we have all the pieces! How does Numpy work?\n",
    "\n",
    "## 6. Packages, Environments, and Beyond\n",
    "\n",
    "* Creating packages? If there is interest\n",
    "* Conda Environments\n",
    "* Docker?\n",
    "\n"
   ]
  },
  {
   "cell_type": "code",
   "execution_count": null,
   "metadata": {},
   "outputs": [],
   "source": []
  }
 ],
 "metadata": {
  "kernelspec": {
   "display_name": "Python [default]",
   "language": "python",
   "name": "python3"
  },
  "language_info": {
   "codemirror_mode": {
    "name": "ipython",
    "version": 3
   },
   "file_extension": ".py",
   "mimetype": "text/x-python",
   "name": "python",
   "nbconvert_exporter": "python",
   "pygments_lexer": "ipython3",
   "version": "3.5.2"
  }
 },
 "nbformat": 4,
 "nbformat_minor": 2
}
