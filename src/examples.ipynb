{
 "cells": [
  {
   "cell_type": "code",
   "execution_count": null,
   "metadata": {},
   "outputs": [],
   "source": [
    "# Lists\n",
    "abc = [1, 2, 3]\n",
    "print(abc[2])  # 3"
   ]
  },
  {
   "cell_type": "code",
   "execution_count": null,
   "metadata": {},
   "outputs": [],
   "source": [
    "# Dictionaries\n",
    "foo = {}  # or dict()\n",
    "foo[\"key1\"] = 12\n",
    "foo[\"key2\"] = 13\n",
    "print(foo)\n",
    "# {'key1': 12, 'key2': 13}\n",
    "\n",
    "\n",
    "print(foo[\"key2\"])\n",
    "# 13"
   ]
  },
  {
   "cell_type": "code",
   "execution_count": null,
   "metadata": {},
   "outputs": [],
   "source": [
    "# Dictionaries as matrix/table\n",
    "mat = {}\n",
    "mat[(1, 9)] = 5\n",
    "mat[(23000, 1e12)] = 4\n",
    "for (keya, keyb) in mat.keys():\n",
    "    val = mat[(keya, keyb)]\n",
    "    print(f\"a: {keya}  b: {keyb}  val: {val}\")\n",
    "# Output:\n",
    "# a: 1  b: 9  val: 5\n",
    "# a: 23000  b: 1000000000000.0  val: 4"
   ]
  },
  {
   "cell_type": "code",
   "execution_count": null,
   "metadata": {},
   "outputs": [],
   "source": [
    "# Dictionaries with lists for values\n",
    "# Table of companions for some galaxy\n",
    "galaxies = [\"M31\", \"MW\"]\n",
    "\n",
    "companions = {}\n",
    "companions[\"M31\"] = [\"M32\", \"M110\", \"etc\"]\n",
    "companions[\"MW\"] = [\"CMd\", \"LMC\", \"SMC\", \"etc\"]\n",
    "\n",
    "for galaxy in galaxies:\n",
    "    cs = companions[galaxy]\n",
    "    print(f\"{galaxy} has {len(cs)} companions!\")\n",
    "# M31 has 3 companions!\n",
    "# MW has 4 companions!"
   ]
  },
  {
   "cell_type": "code",
   "execution_count": null,
   "metadata": {},
   "outputs": [],
   "source": [
    "# Sets\n",
    "\n",
    "bar = set()  # or {,}\n",
    "bar.add(1)\n",
    "bar.add(2)\n",
    "\n",
    "print(2 in bar)  # True\n",
    "print(3 in bar)  # False\n",
    "\n",
    "baz = set([2, 3, 4])\n",
    "print(bar & baz)  # {2}       in both\n",
    "print(bar | baz)  # {1,2,3,4} in either\n",
    "print(bar ^ baz)  # {1,3,4}   in either, but not both!\n",
    "print(bar > baz)  # False     is everythin in bar, also in baz?\n",
    "# etc!"
   ]
  },
  {
   "cell_type": "code",
   "execution_count": null,
   "metadata": {},
   "outputs": [],
   "source": [
    "# Iterators\n",
    "\n",
    "# Why does this work?\n",
    "foo = range(0, 1_000_000_000_000, 1)\n",
    "for b in foo:\n",
    "    print(b)\n",
    "    if b > 10:\n",
    "        break"
   ]
  },
  {
   "cell_type": "code",
   "execution_count": null,
   "metadata": {},
   "outputs": [],
   "source": [
    "def count_down(stop):\n",
    "    value = 0\n",
    "    while value > stop:\n",
    "        yield value\n",
    "        value -= 1\n",
    "\n",
    "\n",
    "for i in count_down(-5):\n",
    "    print(i, end=\", \")\n",
    "print()\n",
    "# 0, -1, -2, -3, -4"
   ]
  },
  {
   "cell_type": "code",
   "execution_count": null,
   "metadata": {},
   "outputs": [],
   "source": [
    "# Iterators: enumerate\n",
    "letters = [\"a\", \"b\", \"c\", \"d\", \"e\"]\n",
    "\n",
    "# Naive\n",
    "for i in range(len(letters)):\n",
    "    letter = letters[i]\n",
    "    print(f\"letter {letter} is at position {i}\")\n",
    "\n",
    "# Enumerate\n",
    "for i, letter in enumerate(letters):\n",
    "    print(f\"letter {letter} is at position {i}\")"
   ]
  },
  {
   "cell_type": "code",
   "execution_count": null,
   "metadata": {},
   "outputs": [],
   "source": [
    "# Iterators: zip\n",
    "\n",
    "letters = [\"a\", \"b\", \"c\"]\n",
    "numbers = [5, 4, 3]\n",
    "\n",
    "zipped = list(zip(letters, numbers))\n",
    "# [('a', 5), ('b', 4), ('c', 3)]\n",
    "\n",
    "for letter, number in zip(letters, numbers):\n",
    "    print(letter + str(number))\n",
    "# a5\n",
    "# b4\n",
    "# c3"
   ]
  },
  {
   "cell_type": "code",
   "execution_count": null,
   "metadata": {},
   "outputs": [],
   "source": [
    "# Zip trick\n",
    "print(zipped)  # [('a', 5), ('b', 4), ('c', 3)]\n",
    "print(list(zip(*zipped)))  # (['a', 'b', 'c'], [1,2,3])"
   ]
  },
  {
   "cell_type": "code",
   "execution_count": null,
   "metadata": {},
   "outputs": [],
   "source": [
    "# Dictionaries: Tip for Function arguments\n",
    "def myfunc(min, max, step):\n",
    "    pass\n",
    "\n",
    "\n",
    "kwargs = {\"min\": 0, \"max\": 10, \"step\": 14}\n",
    "myfunc(**kwargs)"
   ]
  },
  {
   "cell_type": "code",
   "execution_count": null,
   "metadata": {},
   "outputs": [],
   "source": [
    "all_the_args = [\n",
    "    {\"min\": 0, \"max\": 10, \"step\": 3},\n",
    "    {\"min\": 0, \"max\": 12, \"step\": 4},\n",
    "    {\"min\": 6, \"max\": 10, \"step\": 1},\n",
    "]\n",
    "for kwargs in all_the_args:\n",
    "    myfunc(**kwargs)"
   ]
  },
  {
   "cell_type": "code",
   "execution_count": null,
   "metadata": {},
   "outputs": [],
   "source": [
    "# Dictionaries technique: default args\n",
    "my_defaults = {\"marker\": \"o\", \"color\": \"blue\", \"linewidth\": 3, \"alpha\": 0.6}\n",
    "\n",
    "plot([1, 2, 3], **my_defaults)\n",
    "plot([3, 4, 5], **my_defaults)"
   ]
  }
 ],
 "metadata": {
  "kernelspec": {
   "display_name": "Python [conda env:pythonworkshopII]",
   "language": "python",
   "name": "conda-env-pythonworkshopII-py"
  },
  "language_info": {
   "codemirror_mode": {
    "name": "ipython",
    "version": 3
   },
   "file_extension": ".py",
   "mimetype": "text/x-python",
   "name": "python",
   "nbconvert_exporter": "python",
   "pygments_lexer": "ipython3",
   "version": "3.6.5"
  }
 },
 "nbformat": 4,
 "nbformat_minor": 2
}
