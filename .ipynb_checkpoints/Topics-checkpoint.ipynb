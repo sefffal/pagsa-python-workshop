{
 "cells": [
  {
   "cell_type": "markdown",
   "metadata": {},
   "source": [
    "## Next Level Python\n",
    "<blockquote>Learn tips, tools, and techniques for being highly productive in Python.</blockquote>\n",
    "\n",
    "* IDEs: Jupyter Lab? and VSCode\n",
    "* Data Structures: Beyond arrays\n",
    "* Functions, files, modules\n",
    "* Debugging\n",
    "* Beyond CPython\n",
    "* Environments & Reproducible Results\n"
   ]
  },
  {
   "cell_type": "code",
   "execution_count": null,
   "metadata": {},
   "outputs": [],
   "source": []
  },
  {
   "cell_type": "markdown",
   "metadata": {},
   "source": [
    "**IDEs**\n",
    "\n",
    "Start with introducing VSCode IDE.\n",
    "Talk pros and cons of Notebooks. Good for exploration, bad for reproducibility, reuse.\n",
    "Introduce IDEs.\n",
    "\n",
    "* Mutiple cursors\n",
    "* Intellisense\n",
    "* Debuggers: more on this later\n",
    "\n",
    "\n",
    "**Data Structures**\n",
    "* Lists vs Tuples\n",
    "    * Automatic unpacking\n",
    "* Dictionaries\n",
    "    * Motivate with a data processing/matching example\n",
    "    * O(1)\n",
    "* Sets\n",
    "    * Dictionaries without values! \n",
    "    * Fast membership testing O(1)\n",
    "    * Perhaps use student number example\n",
    "\n",
    "**Iterators**\n",
    "* defintion\n",
    "* range object\n",
    "* enumerate\n",
    "* zip\n",
    "* sort\n",
    "* comprehensions?\n",
    "\n",
    "**Functions, Files, and Modules**\n",
    "* Review of defining functions\n",
    "* How to tell when you should pull out a function\n",
    "* DRY! But RY is better than the wrong abstraction\n",
    "* Functions done wrong:\n",
    "    * Magic functions\n",
    "    * Principle of Least Surprise\n",
    "\n",
    "* np.vectorize\n",
    "\n",
    "* Files and the Python Module System\n",
    "* Science Workflow\n",
    "    * Modules + Notebooks: Better together!\n",
    "\n",
    "* OO:\n",
    "    * Bring it up, but discourage use of OO, classes. Modern lagnuages are moving away from OO, especially inheritance.\n",
    "    \n",
    "**Debugging**\n",
    "* Reading Stack Traces\n",
    "* Discussion on Exceptions\n",
    "* Using Python Debuggers\n",
    "    * Stepping through & Breakpoints\n",
    "        * Logpoints\n",
    "        * Breakpoints\n",
    "        * Conditional Breakpoints\n",
    "        * Hitcounts\n",
    "    * Inspecting variables and stack frames\n",
    "\n",
    "**The Python Ecosystem**\n",
    "Discussion about other interpretters: PyPy, Cython, Numba, IronPython, Jython\n",
    "\n",
    "Anaconda, and conda\n",
    "\n",
    "**Conda Environments for Reproducible Results**\n",
    "* Creating and sharing conda environments\n",
    "* Mention Docker"
   ]
  }
 ],
 "metadata": {
  "kernelspec": {
   "display_name": "Python [conda env:Astro]",
   "language": "python",
   "name": "conda-env-Astro-py"
  },
  "language_info": {
   "codemirror_mode": {
    "name": "ipython",
    "version": 3
   },
   "file_extension": ".py",
   "mimetype": "text/x-python",
   "name": "python",
   "nbconvert_exporter": "python",
   "pygments_lexer": "ipython3",
   "version": "3.5.5"
  }
 },
 "nbformat": 4,
 "nbformat_minor": 2
}
